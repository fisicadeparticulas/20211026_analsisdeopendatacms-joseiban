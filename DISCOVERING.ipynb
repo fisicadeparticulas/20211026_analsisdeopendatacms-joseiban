{
  "nbformat": 4,
  "nbformat_minor": 0,
  "metadata": {
    "colab": {
      "name": "DISCOVERING.ipynb",
      "provenance": [],
      "authorship_tag": "ABX9TyMSJiPTWuWpSX7mRgVWREJf",
      "include_colab_link": true
    },
    "kernelspec": {
      "name": "python3",
      "display_name": "Python 3"
    },
    "language_info": {
      "name": "python"
    }
  },
  "cells": [
    {
      "cell_type": "markdown",
      "metadata": {
        "id": "view-in-github",
        "colab_type": "text"
      },
      "source": [
        "<a href=\"https://colab.research.google.com/github/fisicadeparticulas/20211026_analsisdeopendatacms-joseiban/blob/main/DISCOVERING.ipynb\" target=\"_parent\"><img src=\"https://colab.research.google.com/assets/colab-badge.svg\" alt=\"Open In Colab\"/></a>"
      ]
    },
    {
      "cell_type": "code",
      "metadata": {
        "colab": {
          "base_uri": "https://localhost:8080/",
          "height": 419
        },
        "id": "Ypqc4W_yGqlB",
        "outputId": "b4d4625b-f685-4f8d-df9e-5b468d3e1523"
      },
      "source": [
        "#by:joseiban\n",
        "import pandas as pd\n",
        "import numpy as np\n",
        "#NOMBRAMIENTO DE DATOS:\n",
        "data=np.genfromtxt(\"https://goo.gl/GJGJ9m\", delimiter=\",\" , names=[\"Run\",\"Event\",\"pt\",\"eta\",\"phi\",\"Q\",\"chiSq\",\"dxy\",\"iso\",\"MET\",\"phiMET\"])\n",
        "#LECTURA DE DATOS:\n",
        "events=pd.read_csv('https://goo.gl/GJGJ9m')\n",
        "#IMPRESIÓN DE DATOS:\n",
        "events.head(100000) #<--- NOS DA EL NÚMERO DE EVENTOS"
      ],
      "execution_count": null,
      "outputs": [
        {
          "output_type": "execute_result",
          "data": {
            "text/html": [
              "<div>\n",
              "<style scoped>\n",
              "    .dataframe tbody tr th:only-of-type {\n",
              "        vertical-align: middle;\n",
              "    }\n",
              "\n",
              "    .dataframe tbody tr th {\n",
              "        vertical-align: top;\n",
              "    }\n",
              "\n",
              "    .dataframe thead th {\n",
              "        text-align: right;\n",
              "    }\n",
              "</style>\n",
              "<table border=\"1\" class=\"dataframe\">\n",
              "  <thead>\n",
              "    <tr style=\"text-align: right;\">\n",
              "      <th></th>\n",
              "      <th>Run</th>\n",
              "      <th>Event</th>\n",
              "      <th>pt</th>\n",
              "      <th>eta</th>\n",
              "      <th>phi</th>\n",
              "      <th>Q</th>\n",
              "      <th>chiSq</th>\n",
              "      <th>dxy</th>\n",
              "      <th>iso</th>\n",
              "      <th>MET</th>\n",
              "      <th>phiMET</th>\n",
              "    </tr>\n",
              "  </thead>\n",
              "  <tbody>\n",
              "    <tr>\n",
              "      <th>0</th>\n",
              "      <td>173389</td>\n",
              "      <td>489963747</td>\n",
              "      <td>29.3153</td>\n",
              "      <td>-0.1393</td>\n",
              "      <td>1.3561</td>\n",
              "      <td>1</td>\n",
              "      <td>0.8456</td>\n",
              "      <td>-0.0600</td>\n",
              "      <td>0.0000</td>\n",
              "      <td>30.6670</td>\n",
              "      <td>-2.1308</td>\n",
              "    </tr>\n",
              "    <tr>\n",
              "      <th>1</th>\n",
              "      <td>173389</td>\n",
              "      <td>490024840</td>\n",
              "      <td>44.1461</td>\n",
              "      <td>-1.3590</td>\n",
              "      <td>-0.5390</td>\n",
              "      <td>1</td>\n",
              "      <td>1.2943</td>\n",
              "      <td>-0.0126</td>\n",
              "      <td>26.3423</td>\n",
              "      <td>27.9521</td>\n",
              "      <td>-2.6686</td>\n",
              "    </tr>\n",
              "    <tr>\n",
              "      <th>2</th>\n",
              "      <td>173389</td>\n",
              "      <td>490102189</td>\n",
              "      <td>42.7895</td>\n",
              "      <td>-1.0193</td>\n",
              "      <td>2.3390</td>\n",
              "      <td>-1</td>\n",
              "      <td>0.8078</td>\n",
              "      <td>-0.0840</td>\n",
              "      <td>2.9748</td>\n",
              "      <td>5.1565</td>\n",
              "      <td>0.3061</td>\n",
              "    </tr>\n",
              "    <tr>\n",
              "      <th>3</th>\n",
              "      <td>173389</td>\n",
              "      <td>490092121</td>\n",
              "      <td>31.2215</td>\n",
              "      <td>-0.1270</td>\n",
              "      <td>-0.4889</td>\n",
              "      <td>-1</td>\n",
              "      <td>109.9490</td>\n",
              "      <td>0.0723</td>\n",
              "      <td>56.4897</td>\n",
              "      <td>4.2143</td>\n",
              "      <td>-0.1166</td>\n",
              "    </tr>\n",
              "    <tr>\n",
              "      <th>4</th>\n",
              "      <td>173389</td>\n",
              "      <td>490193981</td>\n",
              "      <td>36.9668</td>\n",
              "      <td>1.8557</td>\n",
              "      <td>1.3772</td>\n",
              "      <td>1</td>\n",
              "      <td>1.0597</td>\n",
              "      <td>-0.0676</td>\n",
              "      <td>41.4910</td>\n",
              "      <td>20.9963</td>\n",
              "      <td>-1.6251</td>\n",
              "    </tr>\n",
              "    <tr>\n",
              "      <th>...</th>\n",
              "      <td>...</td>\n",
              "      <td>...</td>\n",
              "      <td>...</td>\n",
              "      <td>...</td>\n",
              "      <td>...</td>\n",
              "      <td>...</td>\n",
              "      <td>...</td>\n",
              "      <td>...</td>\n",
              "      <td>...</td>\n",
              "      <td>...</td>\n",
              "      <td>...</td>\n",
              "    </tr>\n",
              "    <tr>\n",
              "      <th>99995</th>\n",
              "      <td>171369</td>\n",
              "      <td>55073997</td>\n",
              "      <td>89.2292</td>\n",
              "      <td>1.1032</td>\n",
              "      <td>0.7624</td>\n",
              "      <td>-1</td>\n",
              "      <td>0.5443</td>\n",
              "      <td>-0.0168</td>\n",
              "      <td>0.2016</td>\n",
              "      <td>19.2938</td>\n",
              "      <td>2.3639</td>\n",
              "    </tr>\n",
              "    <tr>\n",
              "      <th>99996</th>\n",
              "      <td>171369</td>\n",
              "      <td>55221533</td>\n",
              "      <td>37.6914</td>\n",
              "      <td>-1.3926</td>\n",
              "      <td>-0.6669</td>\n",
              "      <td>-1</td>\n",
              "      <td>0.6061</td>\n",
              "      <td>0.0832</td>\n",
              "      <td>0.5965</td>\n",
              "      <td>7.5065</td>\n",
              "      <td>2.1850</td>\n",
              "    </tr>\n",
              "    <tr>\n",
              "      <th>99997</th>\n",
              "      <td>171369</td>\n",
              "      <td>55273989</td>\n",
              "      <td>31.2467</td>\n",
              "      <td>-0.1335</td>\n",
              "      <td>0.3830</td>\n",
              "      <td>-1</td>\n",
              "      <td>0.8857</td>\n",
              "      <td>0.0592</td>\n",
              "      <td>23.6527</td>\n",
              "      <td>23.0953</td>\n",
              "      <td>-3.1020</td>\n",
              "    </tr>\n",
              "    <tr>\n",
              "      <th>99998</th>\n",
              "      <td>171369</td>\n",
              "      <td>55354925</td>\n",
              "      <td>42.7469</td>\n",
              "      <td>-0.3049</td>\n",
              "      <td>-0.5734</td>\n",
              "      <td>-1</td>\n",
              "      <td>1.4464</td>\n",
              "      <td>0.0818</td>\n",
              "      <td>24.3723</td>\n",
              "      <td>16.4557</td>\n",
              "      <td>2.1887</td>\n",
              "    </tr>\n",
              "    <tr>\n",
              "      <th>99999</th>\n",
              "      <td>171369</td>\n",
              "      <td>55346997</td>\n",
              "      <td>36.4015</td>\n",
              "      <td>2.0057</td>\n",
              "      <td>2.0813</td>\n",
              "      <td>1</td>\n",
              "      <td>1.3507</td>\n",
              "      <td>-0.0880</td>\n",
              "      <td>0.5617</td>\n",
              "      <td>48.3986</td>\n",
              "      <td>-1.2394</td>\n",
              "    </tr>\n",
              "  </tbody>\n",
              "</table>\n",
              "<p>100000 rows × 11 columns</p>\n",
              "</div>"
            ],
            "text/plain": [
              "          Run      Event       pt     eta  ...     dxy      iso      MET  phiMET\n",
              "0      173389  489963747  29.3153 -0.1393  ... -0.0600   0.0000  30.6670 -2.1308\n",
              "1      173389  490024840  44.1461 -1.3590  ... -0.0126  26.3423  27.9521 -2.6686\n",
              "2      173389  490102189  42.7895 -1.0193  ... -0.0840   2.9748   5.1565  0.3061\n",
              "3      173389  490092121  31.2215 -0.1270  ...  0.0723  56.4897   4.2143 -0.1166\n",
              "4      173389  490193981  36.9668  1.8557  ... -0.0676  41.4910  20.9963 -1.6251\n",
              "...       ...        ...      ...     ...  ...     ...      ...      ...     ...\n",
              "99995  171369   55073997  89.2292  1.1032  ... -0.0168   0.2016  19.2938  2.3639\n",
              "99996  171369   55221533  37.6914 -1.3926  ...  0.0832   0.5965   7.5065  2.1850\n",
              "99997  171369   55273989  31.2467 -0.1335  ...  0.0592  23.6527  23.0953 -3.1020\n",
              "99998  171369   55354925  42.7469 -0.3049  ...  0.0818  24.3723  16.4557  2.1887\n",
              "99999  171369   55346997  36.4015  2.0057  ... -0.0880   0.5617  48.3986 -1.2394\n",
              "\n",
              "[100000 rows x 11 columns]"
            ]
          },
          "metadata": {},
          "execution_count": 10
        }
      ]
    },
    {
      "cell_type": "code",
      "metadata": {
        "colab": {
          "base_uri": "https://localhost:8080/",
          "height": 383
        },
        "id": "zKJNMetQKdE0",
        "outputId": "c9d42c5e-9c3d-4351-b360-54b3264da786"
      },
      "source": [
        "#by:joseiban\n",
        "import pandas as pd\n",
        "import numpy as np\n",
        "import matplotlib.pyplot as plt\n",
        "#NOMBRAMIENTO DE DATOS:\n",
        "data=np.genfromtxt(\"https://goo.gl/GJGJ9m\", delimiter=\",\" , names=[\"Run\",\"Event\",\"pt\",\"eta\",\"phi\",\"Q\",\"chiSq\",\"dxy\",\"iso\",\"MET\",\"phiMET\"])\n",
        "#OPERACIÓN DE SALIDA A HISTOGRAMA:\n",
        "plt.title(\"MOMENTO TRANSVERSO\")\n",
        "plt.hist( data['pt'] , bins=[0,10,20,30,40,50,60,70,80,90,100,110,120,130,140])"
      ],
      "execution_count": null,
      "outputs": [
        {
          "output_type": "execute_result",
          "data": {
            "text/plain": [
              "(array([0.0000e+00, 0.0000e+00, 2.0467e+04, 5.3243e+04, 1.7630e+04,\n",
              "        4.6400e+03, 1.8450e+03, 8.6700e+02, 4.4800e+02, 2.7400e+02,\n",
              "        1.5100e+02, 1.0700e+02, 7.3000e+01, 5.3000e+01]),\n",
              " array([  0,  10,  20,  30,  40,  50,  60,  70,  80,  90, 100, 110, 120,\n",
              "        130, 140]),\n",
              " <a list of 14 Patch objects>)"
            ]
          },
          "metadata": {},
          "execution_count": 10
        },
        {
          "output_type": "display_data",
          "data": {
            "image/png": "[encoded data removed]",
            "text/plain": [
              "<Figure size 432x288 with 1 Axes>"
            ]
          },
          "metadata": {
            "needs_background": "light"
          }
        }
      ]
    },
    {
      "cell_type": "code",
      "metadata": {
        "colab": {
          "base_uri": "https://localhost:8080/",
          "height": 383
        },
        "id": "R5zCMM96MWxD",
        "outputId": "7f4a75f2-07cd-465d-8342-b32294b7290c"
      },
      "source": [
        "#by:joseiban\n",
        "import pandas as pd\n",
        "import numpy as np\n",
        "import matplotlib.pyplot as plt\n",
        "#NOMBRAMIENTO DE DATOS:\n",
        "data=np.genfromtxt(\"https://goo.gl/GJGJ9m\", delimiter=\",\" , names=[\"Run\",\"Event\",\"pt\",\"eta\",\"phi\",\"Q\",\"chiSq\",\"dxy\",\"iso\",\"MET\",\"phiMET\"])\n",
        "#OPERACIÓN DE SALIDA A HISTOGRAMA:\n",
        "plt.title(\"PSEUDORAPIDEZ η\")\n",
        "plt.hist( data['eta'] ) # , bins=[-4,-3,-2,-1,0,1,2,3,4]"
      ],
      "execution_count": null,
      "outputs": [
        {
          "output_type": "execute_result",
          "data": {
            "text/plain": [
              "(array([ 6595.,  8573.,  9425., 12504., 12921., 13050., 12207.,  9528.,\n",
              "         8473.,  6724.]),\n",
              " array([-2.10000e+00, -1.68001e+00, -1.26002e+00, -8.40030e-01,\n",
              "        -4.20040e-01, -5.00000e-05,  4.19940e-01,  8.39930e-01,\n",
              "         1.25992e+00,  1.67991e+00,  2.09990e+00]),\n",
              " <a list of 10 Patch objects>)"
            ]
          },
          "metadata": {},
          "execution_count": 9
        },
        {
          "output_type": "display_data",
          "data": {
            "image/png": "[encoded data removed]",
            "text/plain": [
              "<Figure size 432x288 with 1 Axes>"
            ]
          },
          "metadata": {
            "needs_background": "light"
          }
        }
      ]
    },
    {
      "cell_type": "code",
      "metadata": {
        "colab": {
          "base_uri": "https://localhost:8080/",
          "height": 383
        },
        "id": "Q56L_jFgwXWA",
        "outputId": "c1453535-5c93-4901-fd84-e2e2f7a56251"
      },
      "source": [
        "#by:joseiban\n",
        "import pandas as pd\n",
        "import numpy as np\n",
        "import matplotlib.pyplot as plt\n",
        "#NOMBRAMIENTO DE DATOS:\n",
        "data=np.genfromtxt(\"https://goo.gl/GJGJ9m\", delimiter=\",\" , names=[\"Run\",\"Event\",\"pt\",\"eta\",\"phi\",\"Q\",\"chiSq\",\"dxy\",\"iso\",\"MET\",\"phiMET\"])\n",
        "#OPERACIÓN DE SALIDA A HISTOGRAMA:\n",
        "plt.title(\"ÁNGULO Φ\")\n",
        "plt.hist( data['phi'] )"
      ],
      "execution_count": null,
      "outputs": [
        {
          "output_type": "execute_result",
          "data": {
            "text/plain": [
              "(array([10106.,  9996.,  9920., 10036.,  9968.,  9984.,  9978.,  9633.,\n",
              "        10090., 10289.]),\n",
              " array([-3.14130e+00, -2.51301e+00, -1.88472e+00, -1.25643e+00,\n",
              "        -6.28140e-01,  1.50000e-04,  6.28440e-01,  1.25673e+00,\n",
              "         1.88502e+00,  2.51331e+00,  3.14160e+00]),\n",
              " <a list of 10 Patch objects>)"
            ]
          },
          "metadata": {},
          "execution_count": 11
        },
        {
          "output_type": "display_data",
          "data": {
            "image/png": "[encoded data removed]",
            "text/plain": [
              "<Figure size 432x288 with 1 Axes>"
            ]
          },
          "metadata": {
            "needs_background": "light"
          }
        }
      ]
    },
    {
      "cell_type": "code",
      "metadata": {
        "colab": {
          "base_uri": "https://localhost:8080/",
          "height": 366
        },
        "id": "y-Z6gAqzwt7b",
        "outputId": "ef6ba489-bdae-49df-cd74-1b72045f4d4e"
      },
      "source": [
        "#by:joseiban\n",
        "import pandas as pd\n",
        "import numpy as np\n",
        "import matplotlib.pyplot as plt\n",
        "#NOMBRAMIENTO DE DATOS:\n",
        "data=np.genfromtxt(\"https://goo.gl/GJGJ9m\", delimiter=\",\" , names=[\"Run\",\"Event\",\"pt\",\"eta\",\"phi\",\"Q\",\"chiSq\",\"dxy\",\"iso\",\"MET\",\"phiMET\"])\n",
        "#OPERACIÓN DE SALIDA A HISTOGRAMA:\n",
        "plt.title(\"MOMENTO TRANSVERSO PERDIDO\")\n",
        "plt.hist( data['MET'] , bins=[0,10,20,30,40,50,60,70,80,90,100,110,120,130,140])"
      ],
      "execution_count": null,
      "outputs": [
        {
          "output_type": "execute_result",
          "data": {
            "text/plain": [
              "(array([14531., 24761., 21618., 19223., 12211.,  4926.,  1618.,   535.,\n",
              "          213.,   124.,    57.,    49.,    34.,    27.]),\n",
              " array([  0,  10,  20,  30,  40,  50,  60,  70,  80,  90, 100, 110, 120,\n",
              "        130, 140]),\n",
              " <a list of 14 Patch objects>)"
            ]
          },
          "metadata": {},
          "execution_count": 13
        },
        {
          "output_type": "display_data",
          "data": {
            "image/png": "[encoded data removed]",
            "text/plain": [
              "<Figure size 432x288 with 1 Axes>"
            ]
          },
          "metadata": {
            "needs_background": "light"
          }
        }
      ]
    },
    {
      "cell_type": "code",
      "metadata": {
        "colab": {
          "base_uri": "https://localhost:8080/",
          "height": 383
        },
        "id": "D9cSmaf0xISS",
        "outputId": "b27bd82a-a049-4695-978b-79a5aeddb019"
      },
      "source": [
        "#by:joseiban\n",
        "import pandas as pd\n",
        "import numpy as np\n",
        "import matplotlib.pyplot as plt\n",
        "#NOMBRAMIENTO DE DATOS:\n",
        "data=np.genfromtxt(\"https://goo.gl/GJGJ9m\", delimiter=\",\" , names=[\"Run\",\"Event\",\"pt\",\"eta\",\"phi\",\"Q\",\"chiSq\",\"dxy\",\"iso\",\"MET\",\"phiMET\"])\n",
        "#OPERACIÓN DE SALIDA A HISTOGRAMA:\n",
        "plt.title(\"ÁNGULO Φ DEL MOMENTO TRANSVERSO PERDIDO\")\n",
        "plt.hist( data['phiMET'] )"
      ],
      "execution_count": null,
      "outputs": [
        {
          "output_type": "execute_result",
          "data": {
            "text/plain": [
              "(array([ 9570., 10362., 11122., 11629., 11219., 10352.,  9585.,  8712.,\n",
              "         8582.,  8867.]),\n",
              " array([-3.14130e+00, -2.51303e+00, -1.88476e+00, -1.25649e+00,\n",
              "        -6.28220e-01,  5.00000e-05,  6.28320e-01,  1.25659e+00,\n",
              "         1.88486e+00,  2.51313e+00,  3.14140e+00]),\n",
              " <a list of 10 Patch objects>)"
            ]
          },
          "metadata": {},
          "execution_count": 15
        },
        {
          "output_type": "display_data",
          "data": {
            "image/png": "[encoded data removed]",
            "text/plain": [
              "<Figure size 432x288 with 1 Axes>"
            ]
          },
          "metadata": {
            "needs_background": "light"
          }
        }
      ]
    },
    {
      "cell_type": "markdown",
      "metadata": {
        "id": "r8tnK9TPxafg"
      },
      "source": [
        "Al no tener masa, debemos hacer uso de:\n",
        "\n",
        "\\begin{align*}\n",
        "    %\\text{Massless particles} \\Longrightarrow M^2&=2p_1p_2(1-\\cos{\\theta}) \\\\\n",
        "    \\text{Collider experiments} \\Longrightarrow M^2&=2p_{T1}p_{T2}\\left[\\cosh{(\\eta_1-\\eta_2)}-\\cos{(\\phi_1-\\phi_2)}\\right]\n",
        "\\end{align*}\n",
        "\n",
        "Con:\n",
        "\n",
        "\\begin{align*}\n",
        "    p_{T1}&=\\text{pt} \\\\\n",
        "    p_{T2}&=\\text{MET} \\\\\n",
        "    \\phi_1&=\\text{phi} \\\\\n",
        "    \\phi_2&=\\text{phiMET} \\\\\n",
        "    \\eta_1&=\\text{eta} \\\\\n",
        "    \\eta_2&=?\n",
        "\\end{align*}\n",
        "\n",
        "Esta última debe ser la pseudorapidez para:\n",
        "\n",
        "\\begin{equation*}\n",
        "    \\eta_2=-\\ln{\\left[\\tan{\\left(\\frac{\\theta_2}{2}\\right)}\\right]}\n",
        "\\end{equation*}\n",
        "\n",
        "Con:\n",
        "\n",
        "\\begin{equation*}\n",
        "    \\theta_2=\\arccos{\\left(\\frac{P_{z2}}{\\sqrt{P_{T2}^2+P_{z2}^2}}\\right)}\n",
        "\\end{equation*}\n",
        "\n",
        "Tal que:\n",
        "\n",
        "\\begin{equation*}\n",
        "    \\eta_2=-\\ln{\\left(\\tan{\\left[\\frac{1}{2}\\arccos{\\left(\\frac{P_{z2}}{\\sqrt{P_{T2}^2+P_{z2}^2}}\\right)}\\right]}\\right)}\n",
        "\\end{equation*}\n",
        "\n",
        "No conocemos a $\\eta_2$, $\\theta_2$ y $P_{z2}$"
      ]
    }
  ]
}